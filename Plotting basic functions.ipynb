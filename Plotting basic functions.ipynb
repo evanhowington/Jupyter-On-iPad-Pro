{
 "cells": [
  {
   "cell_type": "markdown",
   "metadata": {
    "pycharm": {
     "name": "#%% md\n"
    }
   },
   "source": [
    "#  Plotting basic functions"
   ]
  },
  {
   "cell_type": "code",
   "execution_count": 1,
   "metadata": {
    "pycharm": {
     "name": "#%%\n"
    }
   },
   "outputs": [],
   "source": [
    "import pandas as pd\n",
    "import numpy as np\n",
    "\n",
    "f1_points = []\n",
    "x_points = []\n",
    "\n",
    "def f1(x): \n",
    "    domain = x\n",
    "    codomain = np.sqrt(x)\n",
    "    return domain, codomain\n",
    "\n",
    "def get_ordered_pairs(start, end, step):\n",
    "    for x in range(start, end, step):\n",
    "        #value = x\n",
    "        domain, codomain = f1(x)\n",
    "        f1_points.append(codomain)\n",
    "        x_points.append(domain)\n",
    "\n",
    "def plot_ordered_pairs(start, end, step):\n",
    "    get_ordered_pairs(start, end, step)\n",
    "    data = {'x':x_points, 'y':f1_points}\n",
    "    df = pd.DataFrame(data=data)\n",
    "    df.plot.scatter(x=\"x\", y=\"y\")"
   ]
  },
  {
   "cell_type": "code",
   "execution_count": 2,
   "outputs": [
    {
     "data": {
      "text/plain": "<Figure size 432x288 with 1 Axes>",
      "image/png": "[encoded data removed]"
     },
     "metadata": {
      "needs_background": "light"
     },
     "output_type": "display_data"
    }
   ],
   "source": [
    "plot_ordered_pairs(0, 28, 1)"
   ],
   "metadata": {
    "collapsed": false,
    "pycharm": {
     "name": "#%%\n"
    }
   }
  },
  {
   "cell_type": "code",
   "execution_count": null,
   "outputs": [],
   "source": [],
   "metadata": {
    "collapsed": false,
    "pycharm": {
     "name": "#%%\n"
    }
   }
  }
 ],
 "metadata": {
  "kernelspec": {
   "display_name": "Python 3",
   "language": "python",
   "name": "python3"
  },
  "language_info": {
   "codemirror_mode": {
    "name": "ipython",
    "version": 3
   },
   "file_extension": ".py",
   "mimetype": "text/x-python",
   "name": "python",
   "nbconvert_exporter": "python",
   "pygments_lexer": "ipython3",
   "version": "3.6.6+"
  }
 },
 "nbformat": 4,
 "nbformat_minor": 4
}